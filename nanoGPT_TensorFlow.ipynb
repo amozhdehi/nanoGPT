{
  "nbformat": 4,
  "nbformat_minor": 0,
  "metadata": {
    "colab": {
      "provenance": [],
      "include_colab_link": true
    },
    "kernelspec": {
      "name": "python3",
      "display_name": "Python 3"
    },
    "language_info": {
      "name": "python"
    },
    "accelerator": "TPU",
    "gpuClass": "standard"
  },
  "cells": [
    {
      "cell_type": "markdown",
      "metadata": {
        "id": "view-in-github",
        "colab_type": "text"
      },
      "source": [
        "<a href=\"https://colab.research.google.com/github/amozhdehi/nanoGPT/blob/main/nanoGPT_TensorFlow.ipynb\" target=\"_parent\"><img src=\"https://colab.research.google.com/assets/colab-badge.svg\" alt=\"Open In Colab\"/></a>"
      ]
    },
    {
      "cell_type": "markdown",
      "source": [
        "Initialization"
      ],
      "metadata": {
        "id": "cgjxlJql6vVl"
      }
    },
    {
      "cell_type": "code",
      "source": [
        "import tensorflow as tf\n",
        "from tensorflow.keras import Model\n",
        "from tensorflow.keras.layers import Embedding\n",
        "from tensorflow.keras.losses import SparseCategoricalCrossentropy\n",
        "import math\n",
        "\n",
        "batch_size = 16\n",
        "block_size = 1024\n",
        "max_iters = 2000\n",
        "log_interval = 1\n",
        "out_dir = 'out'\n",
        "eval_interval = 100\n",
        "device = 'cuda' if tf.test.gpu_device_name() else 'cpu'\n",
        "eval_iters = 200\n",
        "embed_dim = 768\n",
        "num_heads = 12\n",
        "num_layers = 12\n",
        "learning_rate = 6e-4\n",
        "max_iters = 600000\n",
        "weight_decay = 1e-1\n",
        "beta1 = 0.9\n",
        "beta2 = 0.95\n",
        "dropout = 0.2\n",
        "tf.random.set_seed(1337)\n"
      ],
      "metadata": {
        "id": "8bCThdYl6u2b"
      },
      "execution_count": 15,
      "outputs": []
    },
    {
      "cell_type": "markdown",
      "source": [
        "Dataset grabbing and tokenization"
      ],
      "metadata": {
        "id": "QI9hC1-R7Jij"
      }
    },
    {
      "cell_type": "code",
      "source": [
        "!wget https://raw.githubusercontent.com/karpathy/char-rnn/master/data/tinyshakespeare/input.txt\n",
        "with open('input.txt', 'r', encoding='utf-8') as f:\n",
        "    corpus = f.read()\n",
        "tokens = sorted(list(set(corpus)))\n",
        "tokens_size = len(tokens)\n",
        "char_to_int = {char:i for i,char in enumerate(tokens)}\n",
        "int_to_char = {i:char for i,char in enumerate(tokens)}\n",
        "tokenize = lambda input: [char_to_int[char] for char in input]\n",
        "detokenize = lambda input: ''.join([int_to_char[char] for char in input])\n",
        "tokenized_corpus = tf.constant(tokenize(corpus), dtype=tf.int64)\n",
        "tokenized_corpus = tf.constant(tokenize(corpus), dtype=tf.int64)\n",
        "test_lenght = int(0.9 * len(tokenized_corpus))\n",
        "train_data = tokenized_corpus[:test_lenght]\n",
        "val_data = tokenized_corpus[test_lenght:]"
      ],
      "metadata": {
        "colab": {
          "base_uri": "https://localhost:8080/"
        },
        "id": "y4Z3-CSz7KCw",
        "outputId": "ad51eb68-3fa7-4e0e-9fe2-d92343bed6d3"
      },
      "execution_count": 16,
      "outputs": [
        {
          "output_type": "stream",
          "name": "stdout",
          "text": [
            "--2023-04-29 01:49:44--  https://raw.githubusercontent.com/karpathy/char-rnn/master/data/tinyshakespeare/input.txt\n",
            "Resolving raw.githubusercontent.com (raw.githubusercontent.com)... 185.199.108.133, 185.199.109.133, 185.199.110.133, ...\n",
            "Connecting to raw.githubusercontent.com (raw.githubusercontent.com)|185.199.108.133|:443... connected.\n",
            "HTTP request sent, awaiting response... 200 OK\n",
            "Length: 1115394 (1.1M) [text/plain]\n",
            "Saving to: ‘input.txt.1’\n",
            "\n",
            "\rinput.txt.1           0%[                    ]       0  --.-KB/s               \rinput.txt.1         100%[===================>]   1.06M  --.-KB/s    in 0.06s   \n",
            "\n",
            "2023-04-29 01:49:44 (17.6 MB/s) - ‘input.txt.1’ saved [1115394/1115394]\n",
            "\n"
          ]
        }
      ]
    },
    {
      "cell_type": "markdown",
      "source": [
        "Dataloading"
      ],
      "metadata": {
        "id": "yBkr0iiW7syV"
      }
    },
    {
      "cell_type": "code",
      "source": [
        "def get_batch(split, batch_size):\n",
        "    data = train_data if split == 'train' else val_data\n",
        "    ix = tf.random.uniform((batch_size,), minval=0, maxval=len(data) - block_size, dtype=tf.int64)\n",
        "    x = tf.stack([data[i: i + block_size] for i in ix])\n",
        "    y = tf.stack([data[i + 1: i + block_size + 1] for i in ix])\n",
        "    return x, y\n",
        "xb, yb = get_batch('train', batch_size)\n",
        "test_lenght = int(0.9 * len(tokenized_corpus))\n",
        "train_data = tokenized_corpus[:test_lenght]\n",
        "val_data = tokenized_corpus[test_lenght:]"
      ],
      "metadata": {
        "id": "xLhee5fI7kBY"
      },
      "execution_count": 17,
      "outputs": []
    },
    {
      "cell_type": "markdown",
      "source": [
        "Single-Head attnetion"
      ],
      "metadata": {
        "id": "nXdTQ_uj9i7j"
      }
    },
    {
      "cell_type": "code",
      "execution_count": 18,
      "metadata": {
        "id": "Nc5EI1Z84gVp"
      },
      "outputs": [],
      "source": [
        "class Head(tf.keras.layers.Layer):\n",
        "    def __init__(self, head_embd_size):\n",
        "        super().__init__()\n",
        "        self.key = tf.keras.layers.Dense(head_embd_size, use_bias=False)\n",
        "        self.query = tf.keras.layers.Dense(head_embd_size, use_bias=False)\n",
        "        self.value = tf.keras.layers.Dense(head_embd_size, use_bias=False)\n",
        "        tril = tf.linalg.band_part(tf.ones((block_size, block_size)), -1, 0)\n",
        "        self.tril = tf.Variable(tril, trainable=False)\n",
        "        self.dropout = tf.keras.layers.Dropout(dropout)\n",
        "\n",
        "    def call(self, x):\n",
        "        batch_size, sequence_size, head_embd_size = x.shape\n",
        "        k = self.key(x)\n",
        "        q = self.query(x)\n",
        "        wei = tf.matmul(q, k, transpose_b=True) * head_embd_size ** -0.5\n",
        "        wei = tf.where(self.tril[: sequence_size, : sequence_size] == 0, tf.constant(float('-inf'), dtype=tf.float32, shape=wei.shape), wei)\n",
        "        wei = tf.nn.softmax(wei, axis=-1) # (B, T, T)\n",
        "        wei = self.dropout(wei)\n",
        "        v = self.value(x)\n",
        "        out = tf.matmul(wei, v)\n",
        "        return out"
      ]
    },
    {
      "cell_type": "markdown",
      "source": [
        "Multi-Head Attention"
      ],
      "metadata": {
        "id": "ga6DUurS_Ivx"
      }
    },
    {
      "cell_type": "code",
      "source": [
        "class MultiHeadAttention(tf.keras.layers.Layer):\n",
        "    def __init__(self, num_heads, head_size):\n",
        "        super(MultiHeadAttention, self).__init__()\n",
        "        self.heads = [Head(head_size) for _ in range(num_heads)]\n",
        "        self.proj = tf.keras.layers.Dense(embed_dim)\n",
        "        self.dropout = tf.keras.layers.Dropout(dropout)\n",
        "\n",
        "    def call(self, x):\n",
        "        out = tf.concat([h(x) for h in self.heads], axis=-1)\n",
        "        out = self.dropout(self.proj(out))\n",
        "        return out"
      ],
      "metadata": {
        "id": "UwVpujBl4kGr"
      },
      "execution_count": 19,
      "outputs": []
    },
    {
      "cell_type": "code",
      "source": [
        "def gelu(x):\n",
        "    return 0.5 * x * (1.0 + tf.tanh(math.sqrt(2.0 / math.pi) * (x + 0.044715 * tf.pow(x, 3.0))))"
      ],
      "metadata": {
        "id": "FfM-I1ByrkuM"
      },
      "execution_count": 20,
      "outputs": []
    },
    {
      "cell_type": "markdown",
      "source": [
        "A fully-connected network"
      ],
      "metadata": {
        "id": "uB39kZx-RxoV"
      }
    },
    {
      "cell_type": "code",
      "source": [
        "class FullyConnected(tf.keras.layers.Layer):\n",
        "    def __init__(self, n_embd, dropout=0.1):\n",
        "        super(FullyConnected, self).__init__()\n",
        "        self.ff = tf.keras.Sequential([\n",
        "            tf.keras.layers.Dense(4 * n_embd, activation=gelu),\n",
        "            # tf.keras.layers.ReLU(),\n",
        "            tf.keras.layers.Dense(n_embd),\n",
        "            tf.keras.layers.Dropout(dropout),\n",
        "        ])\n",
        "\n",
        "    def call(self, x):\n",
        "        return self.ff(x)"
      ],
      "metadata": {
        "id": "TFndMJZg_OL-"
      },
      "execution_count": 21,
      "outputs": []
    },
    {
      "cell_type": "markdown",
      "source": [
        "Attention block"
      ],
      "metadata": {
        "id": "Yed7MCd6R9V2"
      }
    },
    {
      "cell_type": "code",
      "source": [
        "class AttentionBlock(tf.keras.layers.Layer):\n",
        "    def __init__(self, embed_dim, num_heads):\n",
        "        super().__init__()\n",
        "        assert embed_dim % num_heads == 0\n",
        "        head_size = embed_dim // num_heads\n",
        "        self.sa = MultiHeadAttention(num_heads, head_size)\n",
        "        self.fc = FullyConnected(embed_dim)\n",
        "        self.norm1 = tf.keras.layers.LayerNormalization(epsilon=1e-6)\n",
        "        self.norm2 = tf.keras.layers.LayerNormalization(epsilon=1e-6)\n",
        "        # self.norm1 = tf.keras.layers.BatchNormalization()\n",
        "        # self.norm2 = tf.keras.layers.BatchNormalization()\n",
        "\n",
        "    def call(self, x):\n",
        "        x = x + self.sa(self.norm1(x))\n",
        "        x = x + self.fc(self.norm2(x))\n",
        "        return x"
      ],
      "metadata": {
        "id": "_WOsL9VoIEVa"
      },
      "execution_count": 22,
      "outputs": []
    },
    {
      "cell_type": "markdown",
      "source": [
        "Training"
      ],
      "metadata": {
        "id": "fHBm38xYZq5I"
      }
    },
    {
      "cell_type": "code",
      "source": [
        "class BigramLanguageModel(tf.keras.Model):\n",
        "\n",
        "    def __init__(self, tokens_size, embed_dim, block_size, num_heads, num_layers):\n",
        "        super().__init__()\n",
        "        self.token_embedding_table = tf.keras.layers.Embedding(tokens_size, embed_dim)\n",
        "        self.position_embedding_table = tf.keras.layers.Embedding(block_size, embed_dim)\n",
        "        self.blocks = tf.keras.Sequential([AttentionBlock(embed_dim, num_heads=num_heads) for _ in range(num_layers)])\n",
        "        self.norm = tf.keras.layers.LayerNormalization(epsilon=1e-6)\n",
        "        # self.norm = tf.keras.layers.BatchNormalization()\n",
        "        self.lm_head = tf.keras.layers.Dense(tokens_size)\n",
        "\n",
        "    def call(self, idx, targets=None):\n",
        "        B, T = idx.shape\n",
        "        tok_emb = self.token_embedding_table(idx) # (B, T, C)\n",
        "        pos_emb = self.position_embedding_table(tf.range(T, dtype=tf.float32)) # (T, C)\n",
        "        x = tok_emb + pos_emb # (B, T, C)\n",
        "        x = self.blocks(x) # (B, T, C)\n",
        "        x = self.norm(x) # (B, T, C)\n",
        "        logits = self.lm_head(x) # (B, T, tokens_size)\n",
        "\n",
        "        if targets is None:\n",
        "            loss = None\n",
        "        else:\n",
        "            B, T, C = logits.shape\n",
        "            logits = tf.reshape(logits, (B*T, C))\n",
        "            targets = tf.reshape(targets, (B*T,))\n",
        "            loss = tf.reduce_mean(tf.nn.sparse_softmax_cross_entropy_with_logits(logits=logits, labels=targets))\n",
        "\n",
        "        return logits, loss\n",
        "\n",
        "    def generate(self, idx, max_new_tokens):\n",
        "        # idx is (B, T) array of indices in the current context\n",
        "        for _ in range(max_new_tokens):\n",
        "            # crop idx to the last block_size tokens\n",
        "            idx_cond = idx[:, -block_size:]\n",
        "            # get the predictions\n",
        "            logits, _ = self(idx_cond)\n",
        "            # focus only on the last time step\n",
        "            logits = logits[:, -1, :] # becomes (B, C)\n",
        "            # apply softmax to get probabilities\n",
        "            probs = tf.nn.softmax(logits, axis=-1) # (B, C)\n",
        "            # sample from the distribution\n",
        "            idx_next = tf.random.categorical(probs, num_samples=1, dtype=tf.int32) # (B, 1)\n",
        "            # append sampled index to the running sequence\n",
        "            idx = tf.concat([idx, idx_next], axis=1) # (B, T+1)\n",
        "        return idx\n",
        "\n",
        "model = BigramLanguageModel(tokens_size, embed_dim, block_size, num_heads, num_layers)\n",
        "optimizer = tf.keras.optimizers.Adam(learning_rate=learning_rate, weight_decay=weight_decay, beta_1=beta1, beta_2=beta2)\n",
        "for iter in range(max_iters):\n",
        "    if iter % eval_interval == 0 or iter == max_iters - 1:\n",
        "        out = {}\n",
        "        for split in ['train', 'val']:\n",
        "          losses = tf.zeros(eval_iters)\n",
        "          for k in range(eval_iters):\n",
        "              X, Y = get_batch(split, batch_size)\n",
        "              logits, loss = model(X, Y)\n",
        "              losses = tf.tensor_scatter_nd_update(losses, tf.constant([[k]]), tf.expand_dims(loss, axis=0))\n",
        "          out[split] = tf.reduce_mean(losses)\n",
        "        print(f\"Step {iter}: Train loss {out['train']:.4f}, Validation loss {out['val']:.4f}\")\n",
        "    xb, yb = get_batch('train', batch_size)\n",
        "    with tf.GradientTape() as tape:\n",
        "        logits, loss = model(xb, yb)\n",
        "    grads = tape.gradient(loss, model.trainable_weights)\n",
        "    optimizer.apply_gradients(zip(grads, model.trainable_weights))\n",
        "\n",
        "context = tf.zeros((1, 1), dtype=tf.int32)\n",
        "generated = model.generate(context, max_new_tokens=2000)\n",
        "print(detokenize(generated[0].numpy().tolist()))"
      ],
      "metadata": {
        "id": "OX9Jj8qLYPm9"
      },
      "execution_count": null,
      "outputs": []
    }
  ]
}